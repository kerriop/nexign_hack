{
 "cells": [
  {
   "cell_type": "markdown",
   "metadata": {
    "slideshow": {
     "slide_type": "-"
    }
   },
   "source": [
    "# geo-fencing"
   ]
  },
  {
   "cell_type": "code",
   "execution_count": null,
   "metadata": {
    "slideshow": {
     "slide_type": "-"
    }
   },
   "outputs": [],
   "source": []
  },
  {
   "cell_type": "code",
   "execution_count": 1,
   "metadata": {
    "slideshow": {
     "slide_type": "slide"
    }
   },
   "outputs": [],
   "source": [
    "import arcgis\n",
    "from arcgis.gis import GIS\n",
    "import arcgis.geocoding as geocoding\n",
    "from geopy.distance import geodesic\n",
    "from geopy.geocoders import Nominatim\n",
    "import osmapi\n",
    "import csv\n",
    "import pandas as pd"
   ]
  },
  {
   "cell_type": "code",
   "execution_count": 2,
   "metadata": {
    "slideshow": {
     "slide_type": "subslide"
    }
   },
   "outputs": [],
   "source": [
    "my_gis = GIS()"
   ]
  },
  {
   "cell_type": "code",
   "execution_count": 3,
   "metadata": {
    "slideshow": {
     "slide_type": "fragment"
    }
   },
   "outputs": [],
   "source": [
    "hello_map = my_gis.map(\"Санкт-Петербург\", zoomlevel=15)"
   ]
  },
  {
   "cell_type": "code",
   "execution_count": 4,
   "metadata": {
    "slideshow": {
     "slide_type": "notes"
    }
   },
   "outputs": [],
   "source": [
    "hello_map.basemap = 'osm'"
   ]
  },
  {
   "cell_type": "code",
   "execution_count": 5,
   "metadata": {},
   "outputs": [],
   "source": [
    "class Adres_read():\n",
    "    def __init__(self, adress):\n",
    "        self.__geolocator = Nominatim(user_agent=\"specify_your_app_name_here\")\n",
    "        self.__location = self.__geolocator.geocode(adress)\n",
    "        # self.__location_place = (self.__location.latitude, self.__location.longitude)\n",
    "\n",
    "        self.__bounding = self.__location.raw['boundingbox']\n",
    "\n",
    "    def get_points(self):\n",
    "        return self.__bounding"
   ]
  },
  {
   "cell_type": "code",
   "execution_count": 6,
   "metadata": {},
   "outputs": [],
   "source": [
    "class Osm_reader():\n",
    "#     def __init__(self, min_lon, min_lat, max_lon, max_lat):\n",
    "    def __init__(self, lil):\n",
    "#         print(lil)\n",
    "        self.__api = osmapi.OsmApi()\n",
    "#         self.__tmp = self.__api.Map(min_lon, min_lat, max_lon, max_lat)\n",
    "        self.__tmp = self.__api.Map(float(lil[2]), float(lil[0]), float(lil[3]), float(lil[1]))\n",
    "        self.__ret = []\n",
    "\n",
    "        for e in self.__tmp:\n",
    "            try:\n",
    "                try:\n",
    "                    try:\n",
    "                        type_ = e['type']\n",
    "                        timestamp = e['data']['timestamp']\n",
    "                        id = e['data']['id']\n",
    "                        lat = e['data']['lat']\n",
    "                        lon = e['data']['lon']\n",
    "                        uid = e['data']['uid']\n",
    "                        user = str(e['data']['user'])\n",
    "                        tag = e['data']['tag']\n",
    "                        delta_days = (osmapi.datetime.today() - timestamp).days\n",
    "\n",
    "                        if type_ == 'node':\n",
    "                            self.__ret.append([id, lat, lon, uid, timestamp, user])\n",
    "\n",
    "                    except KeyError:\n",
    "                        pass\n",
    "                except IndexError:\n",
    "                    pass\n",
    "            except UnicodeEncodeError as err:\n",
    "                print(err, str(e) + '\\n')\n",
    "\n",
    "    def create_file(self):\n",
    "        with open('dumps.csv', \"w\", newline='', encoding='utf-8') as csv_file:\n",
    "            writer = csv.writer(csv_file, delimiter=',')\n",
    "            for line in self.__ret:\n",
    "#                 print(line)\n",
    "                writer.writerow(line)\n",
    "                \n",
    "            csv_file.close()\n",
    "\n",
    "    def get_values(self):\n",
    "        return self.__ret"
   ]
  },
  {
   "cell_type": "code",
   "execution_count": 7,
   "metadata": {},
   "outputs": [
    {
     "data": {
      "application/vnd.jupyter.widget-view+json": {
       "model_id": "a12602eb974b4d658b7a511b8402a0d7",
       "version_major": 2,
       "version_minor": 0
      },
      "text/html": [
       "<p>Failed to display Jupyter Widget of type <code>MapView</code>.</p>\n",
       "<p>\n",
       "  If you're reading this message in the Jupyter Notebook or JupyterLab Notebook, it may mean\n",
       "  that the widgets JavaScript is still loading. If this message persists, it\n",
       "  likely means that the widgets JavaScript library is either not installed or\n",
       "  not enabled. See the <a href=\"https://ipywidgets.readthedocs.io/en/stable/user_install.html\">Jupyter\n",
       "  Widgets Documentation</a> for setup instructions.\n",
       "</p>\n",
       "<p>\n",
       "  If you're reading this message in another frontend (for example, a static\n",
       "  rendering on GitHub or <a href=\"https://nbviewer.jupyter.org/\">NBViewer</a>),\n",
       "  it may mean that your frontend doesn't currently support widgets.\n",
       "</p>\n"
      ],
      "text/plain": [
       "MapView(layout=Layout(height='400px', width='100%'), zoom=15.0)"
      ]
     },
     "metadata": {},
     "output_type": "display_data"
    },
    {
     "data": {
      "text/html": [
       "<div class=\"map-static-img-preview-eca5c919-6df1-4bb3-84fe-feba6d37aa3c\"><img src=\"\"></img></div>"
      ],
      "text/plain": [
       "<IPython.core.display.HTML object>"
      ]
     },
     "metadata": {},
     "output_type": "display_data"
    },
    {
     "name": "stdout",
     "output_type": "stream",
     "text": [
      "['59.9365155', '59.9365886', '30.300875', '30.3009767']\n",
      "creating\n",
      "file created\n"
     ]
    }
   ],
   "source": [
    "def find_addr(hello_map, g):\n",
    "#     try:\n",
    "    hello_map.draw(g)\n",
    "    geocoded = geocoding.reverse_geocode(g)\n",
    "    address = geocoded['address']['Match_addr']\n",
    "    adres_read = Adres_read(address)\n",
    "    print(adres_read.get_points())\n",
    "\n",
    "    try:\n",
    "        print('creating')\n",
    "        a = Osm_reader(adres_read.get_points())\n",
    "        a.create_file()\n",
    "        print('file created')\n",
    "    except:\n",
    "        print(\"beda\")\n",
    "\n",
    "\n",
    "hello_map.on_click(find_addr)\n",
    "# hello_map.on_click(add_costil())\n",
    "hello_map"
   ]
  },
  {
   "cell_type": "code",
   "execution_count": 8,
   "metadata": {},
   "outputs": [],
   "source": [
    "# def add_costil():\n",
    "kostil = pd.read_csv('dumps.csv')\n",
    "kostil.columns = ['id', 'lat', 'lon', 'uid', 'timestamp', 'user']\n",
    "if len(kostil) > 999:\n",
    "    kostil = kostil[0:1000]\n",
    "    hello_map.add_layer(my_gis.content.import_data(kostil))\n",
    "else:\n",
    "    hello_map.add_layer(my_gis.content.import_data(kostil))"
   ]
  },
  {
   "cell_type": "code",
   "execution_count": 71,
   "metadata": {},
   "outputs": [],
   "source": [
    "# hello_map.add_layer(my_gis.content.import_data(kostil))"
   ]
  },
  {
   "cell_type": "code",
   "execution_count": null,
   "metadata": {},
   "outputs": [],
   "source": []
  },
  {
   "cell_type": "code",
   "execution_count": 80,
   "metadata": {},
   "outputs": [
    {
     "data": {
      "text/html": [
       "<div>\n",
       "<style scoped>\n",
       "    .dataframe tbody tr th:only-of-type {\n",
       "        vertical-align: middle;\n",
       "    }\n",
       "\n",
       "    .dataframe tbody tr th {\n",
       "        vertical-align: top;\n",
       "    }\n",
       "\n",
       "    .dataframe thead th {\n",
       "        text-align: right;\n",
       "    }\n",
       "</style>\n",
       "<table border=\"1\" class=\"dataframe\">\n",
       "  <thead>\n",
       "    <tr style=\"text-align: right;\">\n",
       "      <th></th>\n",
       "      <th>time</th>\n",
       "      <th>lat</th>\n",
       "      <th>lon</th>\n",
       "    </tr>\n",
       "  </thead>\n",
       "  <tbody>\n",
       "    <tr>\n",
       "      <th>0</th>\n",
       "      <td>2018-12-08T10:12:04Z</td>\n",
       "      <td>51.94345893144488</td>\n",
       "      <td>15.49198144879156</td>\n",
       "    </tr>\n",
       "    <tr>\n",
       "      <th>1</th>\n",
       "      <td>2018-12-08T10:13:19Z</td>\n",
       "      <td>51.94363897126528</td>\n",
       "      <td>15.493174279759414</td>\n",
       "    </tr>\n",
       "    <tr>\n",
       "      <th>2</th>\n",
       "      <td>2018-12-08T10:14:34Z</td>\n",
       "      <td>51.94438314560817</td>\n",
       "      <td>15.496343190340847</td>\n",
       "    </tr>\n",
       "    <tr>\n",
       "      <th>3</th>\n",
       "      <td>2018-12-08T10:24:14Z</td>\n",
       "      <td>51.94670125293291</td>\n",
       "      <td>15.503452333217876</td>\n",
       "    </tr>\n",
       "    <tr>\n",
       "      <th>4</th>\n",
       "      <td>2018-12-08T10:24:59Z</td>\n",
       "      <td>51.94680540152711</td>\n",
       "      <td>15.502982348359335</td>\n",
       "    </tr>\n",
       "  </tbody>\n",
       "</table>\n",
       "</div>"
      ],
      "text/plain": [
       "                   time                lat                 lon\n",
       "0  2018-12-08T10:12:04Z  51.94345893144488   15.49198144879156\n",
       "1  2018-12-08T10:13:19Z  51.94363897126528  15.493174279759414\n",
       "2  2018-12-08T10:14:34Z  51.94438314560817  15.496343190340847\n",
       "3  2018-12-08T10:24:14Z  51.94670125293291  15.503452333217876\n",
       "4  2018-12-08T10:24:59Z  51.94680540152711  15.502982348359335"
      ]
     },
     "execution_count": 80,
     "metadata": {},
     "output_type": "execute_result"
    }
   ],
   "source": [
    "import pandas as pd\n",
    "import xml.etree.cElementTree as et\n",
    "import xml\n",
    "\n",
    "\n",
    "def getvalueofnode(node):\n",
    "    \"\"\" return node text or None \"\"\"\n",
    "    return node.text if node is not None else None\n",
    "\n",
    "\n",
    "parsedXML = et.parse('2860167.gpx')\n",
    "dfcols = ['time', 'lat', 'lon']\n",
    "df_xml2 = pd.DataFrame(columns=dfcols)\n",
    "\n",
    "file = xml.dom.minidom.parse('2860167.gpx')\n",
    "file.normalize()\n",
    "time = []\n",
    "a = file.getElementsByTagName('time')\n",
    "for e in a:\n",
    "    time.append(e.firstChild.data)\n",
    "#     print(e.firstChild.data)\n",
    "x = 0\n",
    "for node in parsedXML.getroot():\n",
    "#     time = node.attrib.get('time')\n",
    "    lat = node.attrib.get('lat')\n",
    "    lon = node.attrib.get('lon')\n",
    "    \n",
    "    df_xml2 = df_xml2.append(\n",
    "        pd.Series([time[x] ,lat, lon], index=dfcols),\n",
    "        ignore_index=True)\n",
    "    x += 1\n",
    "    \n",
    "    \n",
    "df_xml2 = df_xml2[:]\n",
    "df_xml2.head()\n",
    "# df_xml.describe()"
   ]
  },
  {
   "cell_type": "code",
   "execution_count": 54,
   "metadata": {},
   "outputs": [],
   "source": [
    "hello_map.add_layer(my_gis.content.import_data(df_xml2))\n"
   ]
  },
  {
   "cell_type": "code",
   "execution_count": 73,
   "metadata": {},
   "outputs": [
    {
     "data": {
      "text/plain": [
       "time    2018-12-08T13:52:46Z\n",
       "dtype: object"
      ]
     },
     "execution_count": 73,
     "metadata": {},
     "output_type": "execute_result"
    }
   ],
   "source": [
    "time_max = df_xml2.max()\n",
    "time_max"
   ]
  },
  {
   "cell_type": "code",
   "execution_count": 74,
   "metadata": {},
   "outputs": [
    {
     "data": {
      "text/plain": [
       "time    2018-12-08T10:09:41Z\n",
       "dtype: object"
      ]
     },
     "execution_count": 74,
     "metadata": {},
     "output_type": "execute_result"
    }
   ],
   "source": [
    "time_min = df_xml2.min()\n",
    "time_min"
   ]
  },
  {
   "cell_type": "code",
   "execution_count": 75,
   "metadata": {},
   "outputs": [],
   "source": [
    "lat1 = 51.9434589314449\n",
    "lon1 = 15.4919814487916"
   ]
  },
  {
   "cell_type": "code",
   "execution_count": 76,
   "metadata": {},
   "outputs": [],
   "source": [
    "lat2 = 51.9515314428726\n",
    "lon2 = 15.5220052294499"
   ]
  },
  {
   "cell_type": "code",
   "execution_count": 117,
   "metadata": {},
   "outputs": [
    {
     "name": "stdout",
     "output_type": "stream",
     "text": [
      "[['2018-12-08T10:13:19Z', '51.94363897126528', '15.493174279759414'], ['2018-12-08T10:14:34Z', '51.94438314560817', '15.496343190340847'], ['2018-12-08T10:24:14Z', '51.94670125293291', '15.503452333217876'], ['2018-12-08T10:24:59Z', '51.94680540152711', '15.502982348359335'], ['2018-12-08T10:26:24Z', '51.94662435470329', '15.503618772051173']]\n",
      "2018-12-08 10:13:19\n",
      "2018-12-08 10:14:34\n",
      "2018-12-08 10:24:14\n",
      "2018-12-08 10:24:59\n",
      "2018-12-08 10:26:24\n"
     ]
    }
   ],
   "source": [
    "from datetime import datetime\n",
    "area_check = []\n",
    "# lat = []\n",
    "# lon = []\n",
    "# area_cols = ['lat', 'lon']\n",
    "# df_xml2['lon'][0]\n",
    "# len(df_xml2)\n",
    "\n",
    "df_xml2 = df_xml2[:-1]\n",
    "\n",
    "\n",
    "for e in range(len(df_xml2)):\n",
    "    if float(df_xml2['lat'][e]) > lat1 and float(df_xml2['lat'][e]) < lat2 and float(df_xml2['lon'][e]) > lon1 and float(df_xml2['lon'][e]) < lon2:\n",
    "        area_check.append([df_xml2['time'][e], df_xml2['lat'][e], df_xml2['lon'][e]])\n",
    "\n",
    "\n",
    "print(area_check)\n",
    "dates = []\n",
    "for e in area_check:\n",
    "    date = datetime.strptime(e[0], '%Y-%m-%dT%H:%M:%SZ')\n",
    "    dates.append(date)\n",
    "    print(date)\n"
   ]
  },
  {
   "cell_type": "code",
   "execution_count": 120,
   "metadata": {},
   "outputs": [
    {
     "name": "stdout",
     "output_type": "stream",
     "text": [
      "2018-12-08 10:13:19\n"
     ]
    }
   ],
   "source": [
    "print(min(dates))"
   ]
  },
  {
   "cell_type": "code",
   "execution_count": 122,
   "metadata": {},
   "outputs": [
    {
     "name": "stdout",
     "output_type": "stream",
     "text": [
      "2018-12-08 10:26:24\n"
     ]
    }
   ],
   "source": [
    "print(max(dates))"
   ]
  },
  {
   "cell_type": "code",
   "execution_count": 123,
   "metadata": {},
   "outputs": [
    {
     "name": "stdout",
     "output_type": "stream",
     "text": [
      "Время нахождения: 0:13:05\n"
     ]
    }
   ],
   "source": [
    "print(\"Время нахождения:\", max(dates) - min(dates))"
   ]
  }
 ],
 "metadata": {
  "kernelspec": {
   "display_name": "Python 3",
   "language": "python",
   "name": "python3"
  },
  "language_info": {
   "codemirror_mode": {
    "name": "ipython",
    "version": 3
   },
   "file_extension": ".py",
   "mimetype": "text/x-python",
   "name": "python",
   "nbconvert_exporter": "python",
   "pygments_lexer": "ipython3",
   "version": "3.6.4"
  }
 },
 "nbformat": 4,
 "nbformat_minor": 2
}
